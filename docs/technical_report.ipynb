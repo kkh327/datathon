{
 "cells": [
  {
   "cell_type": "markdown",
   "metadata": {},
   "source": [
    "# Technical Report"
   ]
  },
  {
   "cell_type": "markdown",
   "metadata": {},
   "source": [
    "## Introduction\n",
    "\n",
    "This report explores Instagram advertising metrics to offer actionable insights for investors. Analyzing data from over 730 brands, we aim to identify trends and anomalies to inform strategic investment decisions. Through rigorous data analysis and modeling, we provide a foundation for informed decision-making in the investment landscape."
   ]
  },
  {
   "cell_type": "markdown",
   "metadata": {},
   "source": [
    "## Data Processing (data_processing.ipynb):\n",
    "In this section, we will load the data and will get a sense of the structure of the dataset and what each feature represents.\n",
    "\n",
    "### Summary of Categorical Dataset Structure:\n",
    "\n",
    "The dataset comprises categorical data across several columns, including `period_end_date`, `compset_group`, `compset`, `business_entity_doing_business_as_name`, `legal_entity_name`, `domicile_country_name`, `ultimate_parent_legal_entity_name`, and `primary_exchange_name`. Here's a brief summary of the key insights:\n",
    "\n",
    "- The `period` column, indicating weekly periods, is redundant and can be dropped, with 704,313 rows in the dataset.\n",
    "- `period_end_date` has 455 unique values, representing the end dates of the weekly periods.\n",
    "- `compset_group` includes 20 unique categories, while `compset` contains 54 unique values.\n",
    "- `business_entity_doing_business_as_name` and `legal_entity_name` have 706 and 423 unique values, respectively.\n",
    "- `domicile_country_name` lists 26 unique countries, with `ultimate_parent_legal_entity_name` containing 401 unique values.\n",
    "- `primary_exchange_name` includes 30 unique exchanges.\n",
    "\n",
    "### Summary of Numerical Dataset Structure:\n",
    "The `followers`, `pictures`, `videos`, `likes`, and `comments` columns contain numerical data, indicating various metrics related to Instagram activity. These columns require careful interpretation, considering factors such as post deletions and likes/comments on posts from previous weeks.\n",
    "  \n",
    "#### Numerical Data Analysis:\n",
    "\n",
    "The numerical columns in the dataset provide insights into Instagram activity metrics for the brands under consideration. Here's a detailed analysis of each numerical feature:\n",
    "\n",
    "1. **Followers:**\n",
    "   - The `followers` column indicates the total number of followers a company had in a specific week.\n",
    "   - The distribution of followers across brands can reveal trends in audience engagement and brand popularity over time.\n",
    "   - Anomalies or sudden spikes in follower count may indicate significant events or marketing campaigns.\n",
    "\n",
    "2. **Pictures and Videos:**\n",
    "   - The `pictures` and `videos` columns represent the number of new pictures and videos posted on Instagram by each brand within a week.\n",
    "   - These metrics reflect the brand's content creation and engagement strategies.\n",
    "   - A higher number of new posts may indicate increased activity and content diversity, potentially leading to higher engagement.\n",
    "\n",
    "3. **Likes and Comments:**\n",
    "   - The `likes` and `comments` columns denote the number of new likes and comments gained by a brand's posts on Instagram within a week.\n",
    "   - These metrics gauge audience interaction and sentiment towards the brand's content.\n",
    "   - Analysis of likes and comments trends can highlight content effectiveness and audience engagement patterns.\n",
    "   - Anomalies in likes and comments metrics may signal viral content or influencer collaborations, impacting brand visibility and perception.\n",
    "\n",
    "4. **Interpretation Considerations:**\n",
    "   - It's important to consider factors such as post deletions and likes/comments on posts from previous weeks, as they may influence the interpretation of numerical metrics.\n",
    "   - Outliers and sudden fluctuations in numerical data should be investigated further to understand their underlying causes, whether they result from genuine trends or data anomalies.\n",
    "\n",
    "By conducting comprehensive analysis and visualization of numerical metrics, we can gain valuable insights into brand performance, audience engagement dynamics, and the effectiveness of Instagram marketing strategies. These insights are instrumental in informing investment decisions and identifying opportunities for strategic partnerships and growth."
   ]
  },
  {
   "cell_type": "markdown",
   "metadata": {},
   "source": [
    "## Data Cleaning (data_cleaning.ipynb):\n",
    "\n",
    "The dataset underwent a comprehensive cleaning process, which can be categorized into two main parts:\n",
    "\n",
    "### Cleaning the Dataset (Categorical Data):\n",
    "\n",
    "#### Dealing with Missing Values:\n",
    "- **Identification of Missing Values**: The dataset was inspected for missing values, particularly focusing on columns such as 'domicile_country_name' and 'primary_exchange_name', which exhibited substantial missingness.\n",
    "- **Strategies for Handling Missing Values**: Options considered included dropping columns with significant missing values, imputing missing values based on available data, and replacing missing values with 'Unknown'.\n",
    "- **Correlation Analysis**: Nullity correlation heatmap and dendrogram revealed high correlation between certain columns like 'ultimate_parent_legal_entity_name' and 'legal_entity_name', suggesting correlated missingness.\n",
    "- **Decision-Making Process**: Decisions were made to either drop redundant columns or impute missing values based on data patterns and relevance to the analysis.\n",
    "\n",
    "#### Dealing with Data Contaminations:\n",
    "- **Duplicate Row Identification**: Duplicate rows were identified and addressed by replacing NaN values with appropriate values.\n",
    "- **Correction of Erroneous Values**: Erroneous values such as incorrect country names and concatenated entries were corrected to maintain data integrity.\n",
    "- **Identification of Significant Findings**: The identification of 'All Brands' entries and their replacement with 'No Parents' highlighted a crucial aspect for model bias mitigation. It's imperative to remove 'All Brands' entries from the dataset before training AI models to prevent bias in the model's predictions.\n",
    "\n",
    "### Cleaning the Dataset (Numerical Data):\n",
    "\n",
    "#### Dealing with Missing Values:\n",
    "- **Imputation Strategy Decision**: The missing value patterns in numerical columns like 'followers', 'pictures', 'likes', and 'videos' were analyzed to determine suitable imputation strategies.\n",
    "- **Selection of Imputation Methods**: Linear interpolation, linear regression, and KNN imputation were chosen based on the linearity of data distributions and relationships between columns.\n",
    "- **Handling Extreme Cases**: Cases with excessive missing values in a row were addressed using mean imputation to ensure completeness in the dataset.\n",
    "\n",
    "The cleaning process resulted in a refined dataset ready for further analysis, including Exploratory Data Analysis (EDA) and statistical modeling."
   ]
  },
  {
   "cell_type": "markdown",
   "metadata": {},
   "source": [
    "## Sector Trends Analysis (Sector_Trends_moein.ipynb):\n",
    "\n",
    "### Extra Statistics\n",
    "In exploring the dataset, we sought to derive more generalized metrics by combining various individual metrics. For instance, we introduced metrics like \"likes per picture\" to provide broader insights into Instagram engagement.\n",
    "\n",
    "### All Brands Sector\n",
    "We aggregated data from all brands to create an overarching sector known as \"All Brands.\"\n",
    "\n",
    "### Sector Statistics\n",
    "We conducted an in-depth analysis of sectors to identify significant disparities in metrics such as likes, comments, etc. across different industry segments. Our findings revealed that certain sectors exhibit exceptional performance on social media platforms like Instagram. We concluded that focusing on these top-performing sectors is essential for leveraging Instagram data for investment purposes, while other sectors may not offer as much utility in the dataset.\n",
    "\n",
    "### Digging Deeper into Sectors and Ranking Companies\n",
    "We delved deeper into specific sectors, such as 'Apparel Retail,' to rank companies based on key metrics like likes. Using a sorted list of companies with notable metrics, we visualized the performance trends of individual companies over time. This analysis facilitates a deeper understanding of sector-specific dynamics and enables the identification of top-performing companies within each sector.\n"
   ]
  },
  {
   "cell_type": "markdown",
   "metadata": {},
   "source": [
    "## EDA Report (EDA.ipynb): Exploring Instagram Data and Stock Market Trends\n",
    "\n",
    "### Introduction\n",
    "In this exploratory data analysis (EDA), we delve into Instagram data from various companies, aiming to uncover insights into social media engagement trends and their potential correlation with stock market performance. The dataset includes information such as followers, likes, comments, and stock prices, among others.\n",
    "\n",
    "### Data Exploration and Cleaning\n",
    "- Loaded the dataset from a CSV file and dropped redundant columns (`period` and `calculation_type`).\n",
    "- Sorted the data by `period_end_date` to facilitate temporal analysis.\n",
    "- Conducted descriptive statistics to gain initial insights into the dataset.\n",
    "\n",
    "### Understanding Instagram Metrics\n",
    "- Analyzed data for specific brands like Versace, GAF, and John John Denim to understand the nature of metrics such as followers, likes, comments, pictures, and videos.\n",
    "- The question was, were these weekly changes in likes, or the total number of likes on the brand page?\n",
    "- We assumed that these metrics represent weekly changes in likes, comments, etc., rather than cumulative totals.\n",
    "  - This assumption was made by diving into a specfic example where a brand (GAF), had a massive spike in their likes, going from 5k likes to 100k likes for 3 weeks, then moving back down to 5k likes\n",
    "  - We found this is because they collaborated with a celebrity, who also posted the videos on his instagram page, which led to the spike in likes\n",
    "  - We concluded that the most likely explaination was that the data was weekly changes in likes, comments, etc.\n",
    "- Investigated correlations between different metrics, revealing insights such as the positive correlation between likes and pictures.\n",
    "\n",
    "### Sector Trends and Company Ranking\n",
    "- Explored sector-wise trends to identify sectors with significant social media engagement.\n",
    "- Ranked companies within sectors based on key metrics like likes, comments, etc., to identify top performers.\n",
    "\n",
    "### Correlation Analysis with Stock Market Data\n",
    "- Integrated Instagram data with stock market data for companies like Nike to explore potential correlations.\n",
    "- Analyzed correlations between Instagram metrics and stock returns over different time periods.\n",
    "- Explored delayed impacts on stock values by shifting stock data for specific weeks and examining correlations.\n",
    "\n",
    "### Conclusion\n",
    "- The analysis provides valuable insights into social media engagement patterns on Instagram across various companies and sectors.\n",
    "- While some correlations between Instagram metrics and stock market performance were observed, further analysis is needed to validate these findings and explore causality.\n",
    "- Especially when looking at individual brands, there was no clear correlation between Instagram performance and the stock market, because there is so much random noise in Instagram performance (as expected)\n",
    "- The findings highlight that instagram data may not be the best predictor of stock market performance on its own, but could be used in combination with other data sources to make more informed on brand's stock\n",
    "### Recommendations\n",
    "- Further research should focus on refining correlation analysis techniques and exploring causal relationships between Instagram engagement metrics and stock market performance.\n",
    "- Continuous monitoring of social media trends and stock market fluctuations is essential for informed decision-making and investment strategies."
   ]
  },
  {
   "cell_type": "markdown",
   "metadata": {},
   "source": []
  }
 ],
 "metadata": {
  "kernelspec": {
   "display_name": "base",
   "language": "python",
   "name": "python3"
  },
  "language_info": {
   "codemirror_mode": {
    "name": "ipython",
    "version": 3
   },
   "file_extension": ".py",
   "mimetype": "text/x-python",
   "name": "python",
   "nbconvert_exporter": "python",
   "pygments_lexer": "ipython3",
   "version": "3.10.6"
  }
 },
 "nbformat": 4,
 "nbformat_minor": 2
}
